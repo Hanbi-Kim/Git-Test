{
  "nbformat": 4,
  "nbformat_minor": 0,
  "metadata": {
    "colab": {
      "provenance": [],
      "authorship_tag": "ABX9TyP6QOqpkuDdg1WAybskmvTp",
      "include_colab_link": true
    },
    "kernelspec": {
      "name": "python3",
      "display_name": "Python 3"
    },
    "language_info": {
      "name": "python"
    }
  },
  "cells": [
    {
      "cell_type": "markdown",
      "metadata": {
        "id": "view-in-github",
        "colab_type": "text"
      },
      "source": [
        "<a href=\"https://colab.research.google.com/github/Hanbi-Kim/Git-Test/blob/main/AutoEncoder_4.ipynb\" target=\"_parent\"><img src=\"https://colab.research.google.com/assets/colab-badge.svg\" alt=\"Open In Colab\"/></a>"
      ]
    },
    {
      "cell_type": "code",
      "source": [
        "# 라이브러리 로드\n",
        "import numpy as np\n",
        "import pandas as pd\n",
        "import keras\n",
        "from keras import layers\n",
        "from matplotlib import pyplot as plt\n",
        "from sklearn.metrics import confusion_matrix\n",
        "import seaborn as sns\n",
        "from sklearn.metrics import f1_score, recall_score, precision_score"
      ],
      "metadata": {
        "id": "BS-ikSoNmOJw"
      },
      "execution_count": 1,
      "outputs": []
    },
    {
      "cell_type": "code",
      "source": [
        "# 데이터 읽어오기\n",
        "# 데이터 로드 (깃허브에 올려서 로드했습니다.. 만약에 코랩에서 다른 데이터 로드해서 하시려면 업로드하고 경로를 여기에 쓰시면 됩니다.)\n",
        "dataset1 = pd.read_csv(\"https://raw.githubusercontent.com/Hanbi-Kim/Git-Test/main/health_data_with_header_2.csv\")\n",
        "# dataset1 = pd.read_csv('../health_data_with_header_2.csv')\n",
        "\n",
        "dataset = dataset1[['age', 'trestbps', 'chol', 'thalach', 'ca', 'sex', 'fbs', 'thal', 'num']]\n",
        "# 특정 필드의 값이 0인 데이터 필터링\n",
        "dataset_zero = dataset[dataset['num'] == 0]\n",
        "\n",
        "# 특정 필드의 값이 1인 데이터 필터링\n",
        "dataset_one = dataset[dataset['num'] == 1]\n",
        "\n",
        "'''\n",
        "# 결과 확인 (옵션)\n",
        "print(\"\\n num 필드 값이 0인 데이터셋:\")\n",
        "print(dataset_zero.head())\n",
        "print(\"\\n num 필드 값이 1인 데이터셋:\")\n",
        "print(dataset_one.head())\n",
        "'''\n",
        "np.random.seed(42)  # 시드 고정\n",
        "\n",
        "def augment_data(data, num_augmented_samples, noise_scale=0.03):\n",
        "    \"\"\"\n",
        "    데이터에 잡음을 추가하여 데이터 증강을 수행하는 함수.\n",
        "\n",
        "    :data: 원본 데이터 세트 (샘플, 특성)\n",
        "    :num_augmented_samples: 생성할 증강된 샘플의 수\n",
        "    :noise_scale: 잡음의 스케일 (표준 편차)\n",
        "\n",
        "    :return: 증강된 데이터 세트\n",
        "    \"\"\"\n",
        "    augmented_data = []\n",
        "    for _ in range(num_augmented_samples):\n",
        "        # 원본 데이터에서 무작위 샘플 선택\n",
        "        sample_index = np.random.randint(0, data.shape[0])\n",
        "        sample = data[sample_index]\n",
        "\n",
        "        # 선택된 샘플에 가우시안 잡음 추가\n",
        "        noise = np.abs(np.random.normal(loc=0.0, scale=noise_scale, size=sample.shape))\n",
        "        augmented_sample = sample + noise\n",
        "\n",
        "        # 증강된 샘플을 리스트에 추가\n",
        "        augmented_data.append(augmented_sample)\n",
        "\n",
        "    # 증강된 데이터를 numpy 배열로 변환\n",
        "    augmented_data = np.array(augmented_data)\n",
        "    return np.vstack((data, augmented_data))  # 원본 데이터와 증강된 데이터 결합\n",
        "\n",
        "X_zero = dataset_zero.iloc[:, :-1].values\n",
        "X_one = dataset_one.iloc[:, :-1].values\n",
        "\n",
        "# 데이터 증강 실행\n",
        "AX_zero = augment_data(X_zero, num_augmented_samples=300)  # 정상인경우\n",
        "print(f\"원본 정상 데이터 샘플 수: {X_zero.shape[0]}\")\n",
        "print(f\"증강된 정상 데이터 샘플 수: {AX_zero.shape[0]}\")\n",
        "\n",
        "AX_one = augment_data(X_one, num_augmented_samples=300)  # 환자인경우\n",
        "print(f\"원본 환자 데이터 샘플 수: {X_one.shape[0]}\")\n",
        "print(f\"증강된 환자 데이터 샘플 수: {AX_one.shape[0]}\")\n",
        "\n",
        "'''\n",
        "AX_zero['target'] = 0\n",
        "AX_one['target'] = 1\n",
        "'''\n",
        "AX_zero_df = pd.DataFrame(AX_zero, columns=['age', 'trestbps', 'chol', 'thalach', 'ca', 'sex', 'fbs', 'thal'])\n",
        "AX_one_df = pd.DataFrame(AX_one, columns=['age', 'trestbps', 'chol', 'thalach', 'ca', 'sex', 'fbs', 'thal'])\n",
        "\n",
        "AX_zero_df.to_csv('AX_zero_df.csv', index=False) # 정상데이터만 저장\n",
        "AX_zero_df['target'] = 0\n",
        "AX_one_df['target'] = 1\n",
        "\n",
        "df = pd.concat([AX_zero_df, AX_one_df])\n",
        "# new_data_set.to_csv('new_data_set.csv', index=False)\n",
        "'''\n",
        "# 결과 확인 (옵션)\n",
        "print(\"데이터 필드 값이 0인 데이터셋:\")\n",
        "print(X_zero[:5])\n",
        "print(\"\\n데이터 필드 값이 1인 데이터셋:\")\n",
        "print(X_one[:5])\n",
        "'''\n",
        "\n",
        "'''\n",
        "X = dataset.iloc[:, :-1].values\n",
        "y = dataset.iloc[:, -1].values\n",
        "\n",
        "# 필요하다면 분리된 데이터셋을 새 파일로 저장\n",
        "dataset_zero.to_csv('filtered_data_zero.csv', index=False)\n",
        "dataset_one.to_csv('filtered_data_one.csv', index=False)\n",
        "# 학습데이터와 테스트 데이터 분리\n",
        "'''"
      ],
      "metadata": {
        "id": "L9pYgD1xrWO_",
        "outputId": "ba481344-8963-4194-d375-c8e0a7578f2e",
        "colab": {
          "base_uri": "https://localhost:8080/",
          "height": 125
        }
      },
      "execution_count": 42,
      "outputs": [
        {
          "output_type": "stream",
          "name": "stdout",
          "text": [
            "원본 정상 데이터 샘플 수: 160\n",
            "증강된 정상 데이터 샘플 수: 460\n",
            "원본 환자 데이터 샘플 수: 137\n",
            "증강된 환자 데이터 샘플 수: 437\n"
          ]
        },
        {
          "output_type": "execute_result",
          "data": {
            "text/plain": [
              "\"\\nX = dataset.iloc[:, :-1].values\\ny = dataset.iloc[:, -1].values\\n\\n# 필요하다면 분리된 데이터셋을 새 파일로 저장\\ndataset_zero.to_csv('filtered_data_zero.csv', index=False)\\ndataset_one.to_csv('filtered_data_one.csv', index=False)\\n# 학습데이터와 테스트 데이터 분리\\n\""
            ],
            "application/vnd.google.colaboratory.intrinsic+json": {
              "type": "string"
            }
          },
          "metadata": {},
          "execution_count": 42
        }
      ]
    },
    {
      "cell_type": "code",
      "source": [
        "!pip install -q -U keras-tuner\n",
        "import kerastuner as kt"
      ],
      "metadata": {
        "id": "bwcCijMKoxyp",
        "colab": {
          "base_uri": "https://localhost:8080/"
        },
        "outputId": "3483c5c2-9abf-494b-90aa-53411b7b3f86"
      },
      "execution_count": 3,
      "outputs": [
        {
          "output_type": "stream",
          "name": "stderr",
          "text": [
            "<ipython-input-3-5d7b6944a6ac>:2: DeprecationWarning: `import kerastuner` is deprecated, please use `import keras_tuner`.\n",
            "  import kerastuner as kt\n"
          ]
        }
      ]
    },
    {
      "cell_type": "code",
      "source": [
        "# 불러온 데이터 기초통계량 확인\n",
        "df.describe()"
      ],
      "metadata": {
        "colab": {
          "base_uri": "https://localhost:8080/",
          "height": 300
        },
        "id": "y781EbEPmZNk",
        "outputId": "aa0f62ac-d554-4386-fb38-d5b140aafe0f"
      },
      "execution_count": 4,
      "outputs": [
        {
          "output_type": "execute_result",
          "data": {
            "text/plain": [
              "              age    trestbps        chol     thalach          ca         sex  \\\n",
              "count  897.000000  897.000000  897.000000  897.000000  897.000000  897.000000   \n",
              "mean    55.075793  132.109539  248.576114  148.468783    0.741267    0.692557   \n",
              "std      8.951883   17.794147   49.533582   23.410710    0.964817    0.468720   \n",
              "min     29.000000   94.000000  126.000000   71.000000    0.000000    0.000000   \n",
              "25%     49.000000  120.010188  213.029426  132.000000    0.005615    0.024269   \n",
              "50%     56.041981  130.008257  243.033347  152.000000    0.040645    1.000000   \n",
              "75%     62.000000  140.026202  277.014266  165.022267    1.032758    1.016468   \n",
              "max     77.045981  200.008106  564.004500  202.020787    3.071057    1.095634   \n",
              "\n",
              "              fbs        thal      target  \n",
              "count  897.000000  897.000000  897.000000  \n",
              "mean     0.154366    4.765848    0.487179  \n",
              "std      0.345924    1.939689    0.500114  \n",
              "min      0.000000    3.000000    0.000000  \n",
              "25%      0.000000    3.006291    0.000000  \n",
              "50%      0.013671    3.043529    0.000000  \n",
              "75%      0.039905    7.001434    1.000000  \n",
              "max      1.077216    7.104143    1.000000  "
            ],
            "text/html": [
              "\n",
              "  <div id=\"df-68d07ce7-0979-46ee-9617-3cf62d4aa873\" class=\"colab-df-container\">\n",
              "    <div>\n",
              "<style scoped>\n",
              "    .dataframe tbody tr th:only-of-type {\n",
              "        vertical-align: middle;\n",
              "    }\n",
              "\n",
              "    .dataframe tbody tr th {\n",
              "        vertical-align: top;\n",
              "    }\n",
              "\n",
              "    .dataframe thead th {\n",
              "        text-align: right;\n",
              "    }\n",
              "</style>\n",
              "<table border=\"1\" class=\"dataframe\">\n",
              "  <thead>\n",
              "    <tr style=\"text-align: right;\">\n",
              "      <th></th>\n",
              "      <th>age</th>\n",
              "      <th>trestbps</th>\n",
              "      <th>chol</th>\n",
              "      <th>thalach</th>\n",
              "      <th>ca</th>\n",
              "      <th>sex</th>\n",
              "      <th>fbs</th>\n",
              "      <th>thal</th>\n",
              "      <th>target</th>\n",
              "    </tr>\n",
              "  </thead>\n",
              "  <tbody>\n",
              "    <tr>\n",
              "      <th>count</th>\n",
              "      <td>897.000000</td>\n",
              "      <td>897.000000</td>\n",
              "      <td>897.000000</td>\n",
              "      <td>897.000000</td>\n",
              "      <td>897.000000</td>\n",
              "      <td>897.000000</td>\n",
              "      <td>897.000000</td>\n",
              "      <td>897.000000</td>\n",
              "      <td>897.000000</td>\n",
              "    </tr>\n",
              "    <tr>\n",
              "      <th>mean</th>\n",
              "      <td>55.075793</td>\n",
              "      <td>132.109539</td>\n",
              "      <td>248.576114</td>\n",
              "      <td>148.468783</td>\n",
              "      <td>0.741267</td>\n",
              "      <td>0.692557</td>\n",
              "      <td>0.154366</td>\n",
              "      <td>4.765848</td>\n",
              "      <td>0.487179</td>\n",
              "    </tr>\n",
              "    <tr>\n",
              "      <th>std</th>\n",
              "      <td>8.951883</td>\n",
              "      <td>17.794147</td>\n",
              "      <td>49.533582</td>\n",
              "      <td>23.410710</td>\n",
              "      <td>0.964817</td>\n",
              "      <td>0.468720</td>\n",
              "      <td>0.345924</td>\n",
              "      <td>1.939689</td>\n",
              "      <td>0.500114</td>\n",
              "    </tr>\n",
              "    <tr>\n",
              "      <th>min</th>\n",
              "      <td>29.000000</td>\n",
              "      <td>94.000000</td>\n",
              "      <td>126.000000</td>\n",
              "      <td>71.000000</td>\n",
              "      <td>0.000000</td>\n",
              "      <td>0.000000</td>\n",
              "      <td>0.000000</td>\n",
              "      <td>3.000000</td>\n",
              "      <td>0.000000</td>\n",
              "    </tr>\n",
              "    <tr>\n",
              "      <th>25%</th>\n",
              "      <td>49.000000</td>\n",
              "      <td>120.010188</td>\n",
              "      <td>213.029426</td>\n",
              "      <td>132.000000</td>\n",
              "      <td>0.005615</td>\n",
              "      <td>0.024269</td>\n",
              "      <td>0.000000</td>\n",
              "      <td>3.006291</td>\n",
              "      <td>0.000000</td>\n",
              "    </tr>\n",
              "    <tr>\n",
              "      <th>50%</th>\n",
              "      <td>56.041981</td>\n",
              "      <td>130.008257</td>\n",
              "      <td>243.033347</td>\n",
              "      <td>152.000000</td>\n",
              "      <td>0.040645</td>\n",
              "      <td>1.000000</td>\n",
              "      <td>0.013671</td>\n",
              "      <td>3.043529</td>\n",
              "      <td>0.000000</td>\n",
              "    </tr>\n",
              "    <tr>\n",
              "      <th>75%</th>\n",
              "      <td>62.000000</td>\n",
              "      <td>140.026202</td>\n",
              "      <td>277.014266</td>\n",
              "      <td>165.022267</td>\n",
              "      <td>1.032758</td>\n",
              "      <td>1.016468</td>\n",
              "      <td>0.039905</td>\n",
              "      <td>7.001434</td>\n",
              "      <td>1.000000</td>\n",
              "    </tr>\n",
              "    <tr>\n",
              "      <th>max</th>\n",
              "      <td>77.045981</td>\n",
              "      <td>200.008106</td>\n",
              "      <td>564.004500</td>\n",
              "      <td>202.020787</td>\n",
              "      <td>3.071057</td>\n",
              "      <td>1.095634</td>\n",
              "      <td>1.077216</td>\n",
              "      <td>7.104143</td>\n",
              "      <td>1.000000</td>\n",
              "    </tr>\n",
              "  </tbody>\n",
              "</table>\n",
              "</div>\n",
              "    <div class=\"colab-df-buttons\">\n",
              "\n",
              "  <div class=\"colab-df-container\">\n",
              "    <button class=\"colab-df-convert\" onclick=\"convertToInteractive('df-68d07ce7-0979-46ee-9617-3cf62d4aa873')\"\n",
              "            title=\"Convert this dataframe to an interactive table.\"\n",
              "            style=\"display:none;\">\n",
              "\n",
              "  <svg xmlns=\"http://www.w3.org/2000/svg\" height=\"24px\" viewBox=\"0 -960 960 960\">\n",
              "    <path d=\"M120-120v-720h720v720H120Zm60-500h600v-160H180v160Zm220 220h160v-160H400v160Zm0 220h160v-160H400v160ZM180-400h160v-160H180v160Zm440 0h160v-160H620v160ZM180-180h160v-160H180v160Zm440 0h160v-160H620v160Z\"/>\n",
              "  </svg>\n",
              "    </button>\n",
              "\n",
              "  <style>\n",
              "    .colab-df-container {\n",
              "      display:flex;\n",
              "      gap: 12px;\n",
              "    }\n",
              "\n",
              "    .colab-df-convert {\n",
              "      background-color: #E8F0FE;\n",
              "      border: none;\n",
              "      border-radius: 50%;\n",
              "      cursor: pointer;\n",
              "      display: none;\n",
              "      fill: #1967D2;\n",
              "      height: 32px;\n",
              "      padding: 0 0 0 0;\n",
              "      width: 32px;\n",
              "    }\n",
              "\n",
              "    .colab-df-convert:hover {\n",
              "      background-color: #E2EBFA;\n",
              "      box-shadow: 0px 1px 2px rgba(60, 64, 67, 0.3), 0px 1px 3px 1px rgba(60, 64, 67, 0.15);\n",
              "      fill: #174EA6;\n",
              "    }\n",
              "\n",
              "    .colab-df-buttons div {\n",
              "      margin-bottom: 4px;\n",
              "    }\n",
              "\n",
              "    [theme=dark] .colab-df-convert {\n",
              "      background-color: #3B4455;\n",
              "      fill: #D2E3FC;\n",
              "    }\n",
              "\n",
              "    [theme=dark] .colab-df-convert:hover {\n",
              "      background-color: #434B5C;\n",
              "      box-shadow: 0px 1px 3px 1px rgba(0, 0, 0, 0.15);\n",
              "      filter: drop-shadow(0px 1px 2px rgba(0, 0, 0, 0.3));\n",
              "      fill: #FFFFFF;\n",
              "    }\n",
              "  </style>\n",
              "\n",
              "    <script>\n",
              "      const buttonEl =\n",
              "        document.querySelector('#df-68d07ce7-0979-46ee-9617-3cf62d4aa873 button.colab-df-convert');\n",
              "      buttonEl.style.display =\n",
              "        google.colab.kernel.accessAllowed ? 'block' : 'none';\n",
              "\n",
              "      async function convertToInteractive(key) {\n",
              "        const element = document.querySelector('#df-68d07ce7-0979-46ee-9617-3cf62d4aa873');\n",
              "        const dataTable =\n",
              "          await google.colab.kernel.invokeFunction('convertToInteractive',\n",
              "                                                    [key], {});\n",
              "        if (!dataTable) return;\n",
              "\n",
              "        const docLinkHtml = 'Like what you see? Visit the ' +\n",
              "          '<a target=\"_blank\" href=https://colab.research.google.com/notebooks/data_table.ipynb>data table notebook</a>'\n",
              "          + ' to learn more about interactive tables.';\n",
              "        element.innerHTML = '';\n",
              "        dataTable['output_type'] = 'display_data';\n",
              "        await google.colab.output.renderOutput(dataTable, element);\n",
              "        const docLink = document.createElement('div');\n",
              "        docLink.innerHTML = docLinkHtml;\n",
              "        element.appendChild(docLink);\n",
              "      }\n",
              "    </script>\n",
              "  </div>\n",
              "\n",
              "\n",
              "<div id=\"df-fcdbd812-7ab4-4b16-859a-ba63a638b2f8\">\n",
              "  <button class=\"colab-df-quickchart\" onclick=\"quickchart('df-fcdbd812-7ab4-4b16-859a-ba63a638b2f8')\"\n",
              "            title=\"Suggest charts\"\n",
              "            style=\"display:none;\">\n",
              "\n",
              "<svg xmlns=\"http://www.w3.org/2000/svg\" height=\"24px\"viewBox=\"0 0 24 24\"\n",
              "     width=\"24px\">\n",
              "    <g>\n",
              "        <path d=\"M19 3H5c-1.1 0-2 .9-2 2v14c0 1.1.9 2 2 2h14c1.1 0 2-.9 2-2V5c0-1.1-.9-2-2-2zM9 17H7v-7h2v7zm4 0h-2V7h2v10zm4 0h-2v-4h2v4z\"/>\n",
              "    </g>\n",
              "</svg>\n",
              "  </button>\n",
              "\n",
              "<style>\n",
              "  .colab-df-quickchart {\n",
              "      --bg-color: #E8F0FE;\n",
              "      --fill-color: #1967D2;\n",
              "      --hover-bg-color: #E2EBFA;\n",
              "      --hover-fill-color: #174EA6;\n",
              "      --disabled-fill-color: #AAA;\n",
              "      --disabled-bg-color: #DDD;\n",
              "  }\n",
              "\n",
              "  [theme=dark] .colab-df-quickchart {\n",
              "      --bg-color: #3B4455;\n",
              "      --fill-color: #D2E3FC;\n",
              "      --hover-bg-color: #434B5C;\n",
              "      --hover-fill-color: #FFFFFF;\n",
              "      --disabled-bg-color: #3B4455;\n",
              "      --disabled-fill-color: #666;\n",
              "  }\n",
              "\n",
              "  .colab-df-quickchart {\n",
              "    background-color: var(--bg-color);\n",
              "    border: none;\n",
              "    border-radius: 50%;\n",
              "    cursor: pointer;\n",
              "    display: none;\n",
              "    fill: var(--fill-color);\n",
              "    height: 32px;\n",
              "    padding: 0;\n",
              "    width: 32px;\n",
              "  }\n",
              "\n",
              "  .colab-df-quickchart:hover {\n",
              "    background-color: var(--hover-bg-color);\n",
              "    box-shadow: 0 1px 2px rgba(60, 64, 67, 0.3), 0 1px 3px 1px rgba(60, 64, 67, 0.15);\n",
              "    fill: var(--button-hover-fill-color);\n",
              "  }\n",
              "\n",
              "  .colab-df-quickchart-complete:disabled,\n",
              "  .colab-df-quickchart-complete:disabled:hover {\n",
              "    background-color: var(--disabled-bg-color);\n",
              "    fill: var(--disabled-fill-color);\n",
              "    box-shadow: none;\n",
              "  }\n",
              "\n",
              "  .colab-df-spinner {\n",
              "    border: 2px solid var(--fill-color);\n",
              "    border-color: transparent;\n",
              "    border-bottom-color: var(--fill-color);\n",
              "    animation:\n",
              "      spin 1s steps(1) infinite;\n",
              "  }\n",
              "\n",
              "  @keyframes spin {\n",
              "    0% {\n",
              "      border-color: transparent;\n",
              "      border-bottom-color: var(--fill-color);\n",
              "      border-left-color: var(--fill-color);\n",
              "    }\n",
              "    20% {\n",
              "      border-color: transparent;\n",
              "      border-left-color: var(--fill-color);\n",
              "      border-top-color: var(--fill-color);\n",
              "    }\n",
              "    30% {\n",
              "      border-color: transparent;\n",
              "      border-left-color: var(--fill-color);\n",
              "      border-top-color: var(--fill-color);\n",
              "      border-right-color: var(--fill-color);\n",
              "    }\n",
              "    40% {\n",
              "      border-color: transparent;\n",
              "      border-right-color: var(--fill-color);\n",
              "      border-top-color: var(--fill-color);\n",
              "    }\n",
              "    60% {\n",
              "      border-color: transparent;\n",
              "      border-right-color: var(--fill-color);\n",
              "    }\n",
              "    80% {\n",
              "      border-color: transparent;\n",
              "      border-right-color: var(--fill-color);\n",
              "      border-bottom-color: var(--fill-color);\n",
              "    }\n",
              "    90% {\n",
              "      border-color: transparent;\n",
              "      border-bottom-color: var(--fill-color);\n",
              "    }\n",
              "  }\n",
              "</style>\n",
              "\n",
              "  <script>\n",
              "    async function quickchart(key) {\n",
              "      const quickchartButtonEl =\n",
              "        document.querySelector('#' + key + ' button');\n",
              "      quickchartButtonEl.disabled = true;  // To prevent multiple clicks.\n",
              "      quickchartButtonEl.classList.add('colab-df-spinner');\n",
              "      try {\n",
              "        const charts = await google.colab.kernel.invokeFunction(\n",
              "            'suggestCharts', [key], {});\n",
              "      } catch (error) {\n",
              "        console.error('Error during call to suggestCharts:', error);\n",
              "      }\n",
              "      quickchartButtonEl.classList.remove('colab-df-spinner');\n",
              "      quickchartButtonEl.classList.add('colab-df-quickchart-complete');\n",
              "    }\n",
              "    (() => {\n",
              "      let quickchartButtonEl =\n",
              "        document.querySelector('#df-fcdbd812-7ab4-4b16-859a-ba63a638b2f8 button');\n",
              "      quickchartButtonEl.style.display =\n",
              "        google.colab.kernel.accessAllowed ? 'block' : 'none';\n",
              "    })();\n",
              "  </script>\n",
              "</div>\n",
              "\n",
              "    </div>\n",
              "  </div>\n"
            ],
            "application/vnd.google.colaboratory.intrinsic+json": {
              "type": "dataframe",
              "summary": "{\n  \"name\": \"df\",\n  \"rows\": 8,\n  \"fields\": [\n    {\n      \"column\": \"age\",\n      \"properties\": {\n        \"dtype\": \"number\",\n        \"std\": 300.83338768271364,\n        \"min\": 8.951883230406365,\n        \"max\": 897.0,\n        \"samples\": [\n          55.075792979758646,\n          56.04198066309758,\n          897.0\n        ],\n        \"num_unique_values\": 8,\n        \"semantic_type\": \"\",\n        \"description\": \"\"\n      }\n    },\n    {\n      \"column\": \"trestbps\",\n      \"properties\": {\n        \"dtype\": \"number\",\n        \"std\": 279.6945935073393,\n        \"min\": 17.794147176856843,\n        \"max\": 897.0,\n        \"samples\": [\n          132.10953925237834,\n          130.00825663866274,\n          897.0\n        ],\n        \"num_unique_values\": 8,\n        \"semantic_type\": \"\",\n        \"description\": \"\"\n      }\n    },\n    {\n      \"column\": \"chol\",\n      \"properties\": {\n        \"dtype\": \"number\",\n        \"std\": 274.42087487816497,\n        \"min\": 49.533581849036054,\n        \"max\": 897.0,\n        \"samples\": [\n          248.57611375771305,\n          243.0333474074854,\n          897.0\n        ],\n        \"num_unique_values\": 8,\n        \"semantic_type\": \"\",\n        \"description\": \"\"\n      }\n    },\n    {\n      \"column\": \"thalach\",\n      \"properties\": {\n        \"dtype\": \"number\",\n        \"std\": 277.7173129743433,\n        \"min\": 23.41071039231104,\n        \"max\": 897.0,\n        \"samples\": [\n          148.46878332350815,\n          152.0,\n          897.0\n        ],\n        \"num_unique_values\": 8,\n        \"semantic_type\": \"\",\n        \"description\": \"\"\n      }\n    },\n    {\n      \"column\": \"ca\",\n      \"properties\": {\n        \"dtype\": \"number\",\n        \"std\": 316.8432069121054,\n        \"min\": 0.0,\n        \"max\": 897.0,\n        \"samples\": [\n          0.741267109549742,\n          0.04064535517119749,\n          897.0\n        ],\n        \"num_unique_values\": 8,\n        \"semantic_type\": \"\",\n        \"description\": \"\"\n      }\n    },\n    {\n      \"column\": \"sex\",\n      \"properties\": {\n        \"dtype\": \"number\",\n        \"std\": 316.9206192749762,\n        \"min\": 0.0,\n        \"max\": 897.0,\n        \"samples\": [\n          0.6925570894417472,\n          1.0,\n          897.0\n        ],\n        \"num_unique_values\": 8,\n        \"semantic_type\": \"\",\n        \"description\": \"\"\n      }\n    },\n    {\n      \"column\": \"fbs\",\n      \"properties\": {\n        \"dtype\": \"number\",\n        \"std\": 317.05521778952544,\n        \"min\": 0.0,\n        \"max\": 897.0,\n        \"samples\": [\n          897.0,\n          0.15436596749492726,\n          0.03990549258918643\n        ],\n        \"num_unique_values\": 7,\n        \"semantic_type\": \"\",\n        \"description\": \"\"\n      }\n    },\n    {\n      \"column\": \"thal\",\n      \"properties\": {\n        \"dtype\": \"number\",\n        \"std\": 315.6350439384866,\n        \"min\": 1.9396890076066438,\n        \"max\": 897.0,\n        \"samples\": [\n          4.765847826029711,\n          3.043529197873233,\n          897.0\n        ],\n        \"num_unique_values\": 8,\n        \"semantic_type\": \"\",\n        \"description\": \"\"\n      }\n    },\n    {\n      \"column\": \"target\",\n      \"properties\": {\n        \"dtype\": \"number\",\n        \"std\": 316.9867834786489,\n        \"min\": 0.0,\n        \"max\": 897.0,\n        \"samples\": [\n          0.48717948717948717,\n          1.0,\n          0.5001144557643469\n        ],\n        \"num_unique_values\": 5,\n        \"semantic_type\": \"\",\n        \"description\": \"\"\n      }\n    }\n  ]\n}"
            }
          },
          "metadata": {},
          "execution_count": 4
        }
      ]
    },
    {
      "cell_type": "code",
      "source": [
        "df_abnormal = df[df['target'] ==  1].drop(\"target\",axis=1)\n",
        "df_normal = df[df['target'] ==  0].drop(\"target\",axis=1)\n",
        "\n",
        "# from sklearn.model_selection import train_test_split\n",
        "# X_train, X_test_normal, y_train, y_test = train_test_split(df_normal.drop('target',axis=1), df_normal['target'],\n",
        "#                                                     test_size=0.20, random_state=42)"
      ],
      "metadata": {
        "id": "1XObj7qNnBwm"
      },
      "execution_count": 47,
      "outputs": []
    },
    {
      "cell_type": "code",
      "source": [
        "def autoencoder(hp):\n",
        "    model = keras.Sequential()\n",
        "    model.add(keras.layers.Input(shape=df_normal.shape[1]))\n",
        "\n",
        "    hp_units_first = hp.Int('units', min_value = 16, max_value = 32, step = 2)\n",
        "    hp_units_second = hp.Int('units', min_value = 8, max_value = 16, step = 2)\n",
        "    hp_units_last = hp.Int('units', min_value = 4, max_value = 8, step = 2)\n",
        "\n",
        "    model.add(keras.layers.Dense(units = hp_units_first, activation = 'relu'))\n",
        "    model.add(keras.layers.Dense(units = hp_units_second, activation = 'relu'))\n",
        "\n",
        "    model.add(keras.layers.Dense(units = hp_units_last, activation = 'relu'))\n",
        "\n",
        "    model.add(keras.layers.Dense(units = hp_units_second, activation = 'relu'))\n",
        "    model.add(keras.layers.Dense(units = hp_units_first, activation = 'relu'))\n",
        "\n",
        "    model.add(layers.Dense(df_normal.shape[1], activation='relu'))\n",
        "\n",
        "    hp_learning_rate = hp.Choice('learning_rate', values = [1e-2, 1e-3])\n",
        "    model.compile(optimizer = keras.optimizers.Adam(learning_rate = hp_learning_rate),\n",
        "                loss = keras.losses.MeanSquaredError(),\n",
        "                metrics = ['mse'])\n",
        "\n",
        "    return model\n",
        "\n",
        "tuner = kt.Hyperband(autoencoder,\n",
        "                     objective = 'val_loss',\n",
        "                     max_epochs = 1000,\n",
        "                     factor = 3)\n",
        "\n",
        "tuner.search(df_normal, df_normal, epochs = 10, validation_split=0.2)\n",
        "best_hps = tuner.get_best_hyperparameters(num_trials = 1)[0]"
      ],
      "metadata": {
        "colab": {
          "base_uri": "https://localhost:8080/"
        },
        "id": "U8jAynDLoJjg",
        "outputId": "9483e518-8e0e-4ef8-bed4-84e4b013b039"
      },
      "execution_count": 50,
      "outputs": [
        {
          "output_type": "stream",
          "name": "stdout",
          "text": [
            "Trial 15 Complete [00h 00m 02s]\n",
            "val_loss: 7535.39990234375\n",
            "\n",
            "Best val_loss So Far: 573.3825073242188\n",
            "Total elapsed time: 00h 00m 33s\n"
          ]
        }
      ]
    },
    {
      "cell_type": "code",
      "source": [
        "model = tuner.hypermodel.build(best_hps)\n",
        "history = model.fit(df_normal, df_normal, epochs = 5000, batch_size=128,\n",
        "        validation_split=0.1,\n",
        "        callbacks=[\n",
        "        keras.callbacks.EarlyStopping(monitor=\"val_loss\", patience=10, mode=\"min\"),\n",
        "        keras.callbacks.ReduceLROnPlateau(monitor='val_loss', factor=0.1,\n",
        "                              patience=4, min_lr=1e-10)\n",
        "    ])"
      ],
      "metadata": {
        "id": "jhbfbJAirUVZ",
        "outputId": "f0becb54-ea2d-4b7a-f563-59706a811ef5",
        "colab": {
          "base_uri": "https://localhost:8080/"
        }
      },
      "execution_count": 51,
      "outputs": [
        {
          "output_type": "stream",
          "name": "stdout",
          "text": [
            "Epoch 1/5000\n",
            "4/4 [==============================] - 2s 109ms/step - loss: 9067.2461 - mse: 9067.2461 - val_loss: 1682.5151 - val_mse: 1682.5151 - lr: 0.0100\n",
            "Epoch 2/5000\n",
            "4/4 [==============================] - 0s 23ms/step - loss: 1818.5559 - mse: 1818.5559 - val_loss: 844.4510 - val_mse: 844.4510 - lr: 0.0100\n",
            "Epoch 3/5000\n",
            "4/4 [==============================] - 0s 19ms/step - loss: 1187.0339 - mse: 1187.0339 - val_loss: 895.2562 - val_mse: 895.2562 - lr: 0.0100\n",
            "Epoch 4/5000\n",
            "4/4 [==============================] - 0s 24ms/step - loss: 758.5833 - mse: 758.5833 - val_loss: 823.5912 - val_mse: 823.5912 - lr: 0.0100\n",
            "Epoch 5/5000\n",
            "4/4 [==============================] - 0s 24ms/step - loss: 712.8719 - mse: 712.8719 - val_loss: 658.0493 - val_mse: 658.0493 - lr: 0.0100\n",
            "Epoch 6/5000\n",
            "4/4 [==============================] - 0s 23ms/step - loss: 756.5213 - mse: 756.5213 - val_loss: 503.9590 - val_mse: 503.9590 - lr: 0.0100\n",
            "Epoch 7/5000\n",
            "4/4 [==============================] - 0s 23ms/step - loss: 631.3813 - mse: 631.3813 - val_loss: 547.4055 - val_mse: 547.4055 - lr: 0.0100\n",
            "Epoch 8/5000\n",
            "4/4 [==============================] - 0s 22ms/step - loss: 584.7786 - mse: 584.7786 - val_loss: 620.9957 - val_mse: 620.9957 - lr: 0.0100\n",
            "Epoch 9/5000\n",
            "4/4 [==============================] - 0s 21ms/step - loss: 608.0973 - mse: 608.0973 - val_loss: 567.9719 - val_mse: 567.9719 - lr: 0.0100\n",
            "Epoch 10/5000\n",
            "4/4 [==============================] - 0s 24ms/step - loss: 586.0317 - mse: 586.0317 - val_loss: 508.2242 - val_mse: 508.2242 - lr: 0.0100\n",
            "Epoch 11/5000\n",
            "4/4 [==============================] - 0s 11ms/step - loss: 558.2461 - mse: 558.2461 - val_loss: 508.5435 - val_mse: 508.5435 - lr: 1.0000e-03\n",
            "Epoch 12/5000\n",
            "4/4 [==============================] - 0s 10ms/step - loss: 558.7755 - mse: 558.7755 - val_loss: 507.4087 - val_mse: 507.4087 - lr: 1.0000e-03\n",
            "Epoch 13/5000\n",
            "4/4 [==============================] - 0s 10ms/step - loss: 556.4964 - mse: 556.4964 - val_loss: 507.2204 - val_mse: 507.2204 - lr: 1.0000e-03\n",
            "Epoch 14/5000\n",
            "4/4 [==============================] - 0s 10ms/step - loss: 554.4796 - mse: 554.4796 - val_loss: 508.7738 - val_mse: 508.7738 - lr: 1.0000e-03\n",
            "Epoch 15/5000\n",
            "4/4 [==============================] - 0s 10ms/step - loss: 554.2181 - mse: 554.2181 - val_loss: 508.9835 - val_mse: 508.9835 - lr: 1.0000e-04\n",
            "Epoch 16/5000\n",
            "4/4 [==============================] - 0s 11ms/step - loss: 554.1627 - mse: 554.1627 - val_loss: 509.0949 - val_mse: 509.0949 - lr: 1.0000e-04\n"
          ]
        }
      ]
    },
    {
      "cell_type": "code",
      "source": [
        "plt.plot(history.history[\"loss\"], label=\"Training Loss\")\n",
        "plt.plot(history.history[\"val_loss\"], label=\"Validation Loss\")\n",
        "plt.legend()\n",
        "plt.show()"
      ],
      "metadata": {
        "colab": {
          "base_uri": "https://localhost:8080/",
          "height": 430
        },
        "id": "gSziMLNxqrwR",
        "outputId": "b73c774f-cd76-467b-9f1a-1740422c249f"
      },
      "execution_count": 52,
      "outputs": [
        {
          "output_type": "display_data",
          "data": {
            "text/plain": [
              "<Figure size 640x480 with 1 Axes>"
            ],
            "image/png": "[encoded data removed]"
          },
          "metadata": {}
        }
      ]
    },
    {
      "cell_type": "code",
      "source": [
        "# Get train MAE loss.\n",
        "X_train_pred = model.predict(df_normal)\n",
        "train_mae_loss = np.mean(np.abs(X_train_pred - df_normal), axis=1)\n",
        "\n",
        "plt.hist(train_mae_loss, bins=50)\n",
        "plt.xlabel(\"Train MAE loss\")\n",
        "plt.ylabel(\"No of samples\")\n",
        "plt.show()\n",
        "\n",
        "# Get reconstruction loss threshold.\n",
        "# threshold = np.max(train_mae_loss)\n",
        "print(\"Reconstruction error max threshold: \", np.max(train_mae_loss))\n",
        "print(\"Reconstruction error min threshold: \", np.min(train_mae_loss))"
      ],
      "metadata": {
        "colab": {
          "base_uri": "https://localhost:8080/",
          "height": 503
        },
        "id": "mpQ-1PctqypT",
        "outputId": "0e2b576e-65bf-440a-e1bd-26e928d8996c"
      },
      "execution_count": 53,
      "outputs": [
        {
          "output_type": "stream",
          "name": "stdout",
          "text": [
            "15/15 [==============================] - 0s 2ms/step\n"
          ]
        },
        {
          "output_type": "display_data",
          "data": {
            "text/plain": [
              "<Figure size 640x480 with 1 Axes>"
            ],
            "image/png": "[encoded data removed]"
          },
          "metadata": {}
        },
        {
          "output_type": "stream",
          "name": "stdout",
          "text": [
            "Reconstruction error max threshold:  52.560291442191655\n",
            "Reconstruction error min threshold:  7.128134727478027\n"
          ]
        }
      ]
    },
    {
      "cell_type": "code",
      "source": [
        "# 정상 테스트 데이터의 예측 값\n",
        "X_test_normal_pred = pd.DataFrame(model.predict(df_normal), columns=df_normal.columns)\n",
        "X_test_abnormal_pred = pd.DataFrame(model.predict(df_abnormal), columns=df_abnormal.columns)"
      ],
      "metadata": {
        "id": "SLpzVW9x8oAC",
        "outputId": "5394e823-5176-486e-8b48-d7728562663e",
        "colab": {
          "base_uri": "https://localhost:8080/"
        }
      },
      "execution_count": 54,
      "outputs": [
        {
          "output_type": "stream",
          "name": "stdout",
          "text": [
            "15/15 [==============================] - 0s 3ms/step\n",
            "14/14 [==============================] - 0s 4ms/step\n"
          ]
        }
      ]
    },
    {
      "cell_type": "code",
      "source": [
        "# Threshold 조절하여 F1-score 조절가능\n",
        "threshold = 16\n",
        "\n",
        "# 비정상 테스트의 MAE를 구하고 앞서구한 threshold보다 낮다면 정상, 높다면 비정상을 Result에 저장\n",
        "df_abnormal['MAE'] = np.mean(np.abs(X_test_abnormal_pred - df_abnormal.reset_index(drop=True)), axis=1).tolist()\n",
        "df_abnormal['Pred'] = df_abnormal['MAE'].apply(lambda x: 0 if x< threshold else 1)\n",
        "df_abnormal['Target'] = 1\n",
        "# 정상 테스트의 MAE를 구하고 앞서구한 threshold보다 낮다면 정상, 높다면 비정상을 Result에 저장\n",
        "df_normal['MAE'] = np.mean(np.abs(X_test_normal_pred - df_normal.reset_index(drop=True)), axis=1).tolist()\n",
        "df_normal['Pred'] = df_normal['MAE'].apply(lambda x: 0 if x< threshold else 1)\n",
        "df_normal['Target'] = 0\n",
        "result = pd.concat([df_normal,df_abnormal]).reset_index(drop=True)\n",
        "cm = confusion_matrix(result['Target'], result['Pred'])\n",
        "sns.heatmap(cm, annot=True, cmap='Blues', fmt='g')\n",
        "plt.xlabel('Predicted')\n",
        "plt.ylabel('Target')\n",
        "plt.show()\n",
        "\n",
        "print(f\"Recall-score = {recall_score(result['Target'], result['Pred'])}\")\n",
        "print(f\"Precision-score = {precision_score(result['Target'], result['Pred'])}\")\n",
        "print(f\"F1-score = {f1_score(result['Target'], result['Pred'])}\")"
      ],
      "metadata": {
        "id": "iAb_Jsa_sF5u",
        "outputId": "01c6e520-37bb-4141-f315-017efec74b39",
        "colab": {
          "base_uri": "https://localhost:8080/",
          "height": 503
        }
      },
      "execution_count": 66,
      "outputs": [
        {
          "output_type": "display_data",
          "data": {
            "text/plain": [
              "<Figure size 640x480 with 2 Axes>"
            ],
            "image/png": "[encoded data removed]"
          },
          "metadata": {}
        },
        {
          "output_type": "stream",
          "name": "stdout",
          "text": [
            "Recall-score = 0.448512585812357\n",
            "Precision-score = 0.632258064516129\n",
            "F1-score = 0.5247657295850067\n"
          ]
        }
      ]
    },
    {
      "cell_type": "code",
      "source": [],
      "metadata": {
        "id": "AT0XKVgY9IR4"
      },
      "execution_count": null,
      "outputs": []
    }
  ]
}